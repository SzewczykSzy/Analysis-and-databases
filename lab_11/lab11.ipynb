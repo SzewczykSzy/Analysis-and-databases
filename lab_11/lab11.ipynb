{
 "cells": [
  {
   "cell_type": "code",
   "execution_count": 18,
   "metadata": {},
   "outputs": [
    {
     "name": "stdout",
     "output_type": "stream",
     "text": [
      "752\n"
     ]
    }
   ],
   "source": [
    "import geopandas as gpd \n",
    "\n",
    "df = gpd.read_file('data/nyc_streets.shp')\n",
    "df1 = df['NAME']\n",
    "df_2 = [value for value in df1]\n",
    "sum = 0\n",
    "for el in df_2:\n",
    "    try:\n",
    "        if el[0] == 'M':\n",
    "            sum += 1\n",
    "    except:\n",
    "        pass\n",
    "print(sum)"
   ]
  },
  {
   "cell_type": "code",
   "execution_count": 25,
   "metadata": {},
   "outputs": [
    {
     "data": {
      "text/plain": [
       "1393228"
      ]
     },
     "execution_count": 25,
     "metadata": {},
     "output_type": "execute_result"
    }
   ],
   "source": [
    "df = gpd.read_file('data/nyc_census_blocks.shp')\n",
    "df1 = df['POPN_OTHER']\n",
    "df1.sum()"
   ]
  },
  {
   "cell_type": "code",
   "execution_count": 45,
   "metadata": {},
   "outputs": [
    {
     "name": "stdout",
     "output_type": "stream",
     "text": [
      "1585873\n",
      "1385108\n",
      "2230621\n"
     ]
    }
   ],
   "source": [
    "df = gpd.read_file('data/nyc_census_blocks.shp')\n",
    "df1 = df['POPN_TOTAL']\n",
    "df2 = df['BORONAME']\n",
    "sum_man = 0\n",
    "for pop, bor in zip(df1, df2):\n",
    "    if bor == 'Manhattan':\n",
    "        sum_man += pop\n",
    "sum_tb = 0\n",
    "for pop, bor in zip(df1, df2):\n",
    "    if bor == 'The Bronx':\n",
    "        sum_tb += pop\n",
    "sum_qu = 0\n",
    "for pop, bor in zip(df1, df2):\n",
    "    if bor == 'Queens':\n",
    "        sum_qu += pop\n",
    "\n",
    "print(sum_man)\n",
    "print(sum_tb)\n",
    "print(sum_qu)"
   ]
  },
  {
   "cell_type": "code",
   "execution_count": 48,
   "metadata": {},
   "outputs": [
    {
     "name": "stdout",
     "output_type": "stream",
     "text": [
      "23 28 30 24 24\n"
     ]
    }
   ],
   "source": [
    "df = gpd.read_file('data/nyc_neighborhoods.shp')\n",
    "df1 = df['BORONAME']\n",
    "sum_b = 0\n",
    "sum_m = 0\n",
    "sum_q = 0\n",
    "sum_tb = 0\n",
    "sum_si = 0\n",
    "for el in df1:\n",
    "    if el == 'Brooklyn':\n",
    "        sum_b += 1\n",
    "    elif el == 'Manhattan':\n",
    "        sum_m += 1\n",
    "    elif el == 'The Bronx':\n",
    "        sum_tb += 1\n",
    "    elif el == 'Queens':\n",
    "        sum_q += 1\n",
    "    else:\n",
    "        sum_si += 1\n",
    "print(sum_b, sum_m, sum_q, sum_tb, sum_si)"
   ]
  }
 ],
 "metadata": {
  "kernelspec": {
   "display_name": "Python 3",
   "language": "python",
   "name": "python3"
  },
  "language_info": {
   "codemirror_mode": {
    "name": "ipython",
    "version": 3
   },
   "file_extension": ".py",
   "mimetype": "text/x-python",
   "name": "python",
   "nbconvert_exporter": "python",
   "pygments_lexer": "ipython3",
   "version": "3.9.2"
  },
  "orig_nbformat": 4,
  "vscode": {
   "interpreter": {
    "hash": "a7ccfb54ddfe2a60b2811b4a0a705febf644bc08b117874e044decac7ff2771b"
   }
  }
 },
 "nbformat": 4,
 "nbformat_minor": 2
}
